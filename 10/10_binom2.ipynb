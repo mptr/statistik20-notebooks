{
 "cells": [
  {
   "attachments": {
    "hsrmlogo.png": {
     "image/png": "[encoded data removed]"
    }
   },
   "cell_type": "markdown",
   "metadata": {},
   "source": [
    "# Rechnen mit Wahrscheinlichkeiten <img src=\"attachment:hsrmlogo.png\" width=\"10%\" align=\"right\">\n",
    "In diesem Notebook möchten wir uns mit einem Problem befassen, das häufig in der Praxis auftritt wenn wir mit Wahrscheinlichkeiten rechnen: Die Werte werden sehr sehr klein, so dass Sie mit herkömmlicher Floating-Point-Arithmetik zu null gerundet werden."
   ]
  },
  {
   "cell_type": "markdown",
   "metadata": {},
   "source": [
    "## 1. Vorbereitung\n",
    "\n",
    "Wir bleiben bei dem Fabrikbeispiel aus dem letzten Notebook. Kopieren Sie zunächst Ihre Implementierung von *binomial_recursive()* aus dem letzten Notebook in die folgende Zelle und führen Sie sie aus (der Plot sollte eine korrekte Binomialverteilung zeigen)."
   ]
  },
  {
   "cell_type": "code",
   "execution_count": null,
   "metadata": {},
   "outputs": [],
   "source": [
    "%matplotlib notebook\n",
    "\n",
    "import numpy as np\n",
    "import matplotlib.pyplot as plt\n",
    "\n",
    "def binomial_recursive(n, p):\n",
    "    P = # FIXME: fill P\n",
    "    return P\n",
    "\n",
    "def barplot(P):\n",
    "    ind = np.arange(0,len(P))\n",
    "    fig, ax = plt.subplots()\n",
    "    rects1 = ax.bar(ind+0.5, P, 0.8, color='red')\n",
    "    ax.set_ylabel('P(X=k)')\n",
    "    ax.set_xlabel('k')\n",
    "    plt.grid(True)\n",
    "    plt.show()\n",
    "    \n",
    "# Einfacher Test\n",
    "barplot(binomial_recursive(20, 0.25))"
   ]
  },
  {
   "cell_type": "markdown",
   "metadata": {},
   "source": [
    "## 2. Kleine kleine Werte ....\n",
    "\n",
    "Die Ausschussrate sei nun $p=10$\\%. Wir berechnen $P(X=1000)$, d.h. die Wahrscheinlichkeit dass 1000 Teile defekt sind.\n",
    "\n",
    "Wir erhalten den Wert $P(X=1000)=0$. Das ist offensichtlich falsch, denn eigentlich sollte der Wert ungefähr $1,33$\\% betragen.\n",
    "\n",
    "Können Sie das Problem im Detail erklären? Studieren Sie hierzu das Array $P$. "
   ]
  },
  {
   "cell_type": "code",
   "execution_count": null,
   "metadata": {},
   "outputs": [],
   "source": [
    "\n",
    "P = binomial_recursive(10000, 0.1)\n",
    "\n",
    "# Klappt nicht :-(\n",
    "print(P[1000])"
   ]
  },
  {
   "cell_type": "markdown",
   "metadata": {},
   "source": [
    "## 3. Rechnen mit kleinen kleinen Werten\n",
    "\n",
    "Eine typische Strategie, um auch mit kleinen Zahlen erfolgreich zu rechnen, ist die Verwendung des Logarithmus. Implementieren Sie eine Methode **binomial_log()**, die zunächst *nicht* die Einzelwahrscheinlichkeiten $P$\n",
    "$$\n",
    "  P := P(X=0), P(X=1), P(X=2), ...\n",
    "$$\n",
    "sondern die zugehörigen Logarithmen $logP$ berechnet:\n",
    "$$\n",
    " logP := log \\big( P(X=0) \\big) , log \\big( P(X=1) \\big) , log \\big( P(X=2) \\big) , ...\n",
    "$$\n",
    "Verwenden Sie hierzu die rekursive Formel und passen Sie diese auf Logarithmen an.\n",
    "Berechnen Sie zuletzt das gesuchte Array P, indem Sie auf die Werte in logP die Exponentialfunktion anwenden. Nun sollte das Fabrikbeispiel funktionieren."
   ]
  },
  {
   "cell_type": "code",
   "execution_count": null,
   "metadata": {},
   "outputs": [],
   "source": [
    "from numpy import log\n",
    "\n",
    "def binomial_log(n, p):\n",
    "    logP = ... # FIXME: compute\n",
    "    P = ...\n",
    "    return P\n",
    "\n",
    "# Einfacher Test\n",
    "barplot(binomial_recursive(20, 0.25))\n",
    "\n",
    "# Klappt :-) ?\n",
    "P = binomial_log(10000, 0.1)\n",
    "print(P[1000])"
   ]
  }
 ],
 "metadata": {
  "kernelspec": {
   "display_name": "Python 2",
   "language": "python",
   "name": "python2"
  },
  "language_info": {
   "codemirror_mode": {
    "name": "ipython",
    "version": 3
   },
   "file_extension": ".py",
   "mimetype": "text/x-python",
   "name": "python",
   "nbconvert_exporter": "python",
   "pygments_lexer": "ipython3",
   "version": "3.7.5"
  }
 },
 "nbformat": 4,
 "nbformat_minor": 1
}
